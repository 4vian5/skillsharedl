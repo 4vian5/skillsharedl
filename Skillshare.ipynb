{
  "nbformat": 4,
  "nbformat_minor": 0,
  "metadata": {
    "colab": {
      "name": "TechRim SkillSHare Hack",
      "provenance": [],
      "collapsed_sections": [],
      "include_colab_link": true
    },
    "kernelspec": {
      "name": "python3",
      "display_name": "Python 3"
    }
  },
  "cells": [
    {
      "cell_type": "markdown",
      "metadata": {
        "id": "view-in-github",
        "colab_type": "text"
      },
      "source": [
        "<a href=\"https://colab.research.google.com/github/4vian5/skillsharedl/blob/master/Skillshare.ipynb\" target=\"_parent\"><img src=\"https://colab.research.google.com/assets/colab-badge.svg\" alt=\"Open In Colab\"/></a>"
      ]
    },
    {
      "cell_type": "code",
      "metadata": {
        "id": "IPSBl3OUzsw7",
        "colab_type": "code",
        "cellView": "form",
        "colab": {}
      },
      "source": [
        "#@markdown <h3>⬅ Run This Cell to  Mount Gdrive\n",
        "from google.colab import drive\n",
        "drive.mount('/content/drive')"
      ],
      "execution_count": 0,
      "outputs": []
    },
    {
      "cell_type": "code",
      "metadata": {
        "id": "a-pB9svOzznW",
        "colab_type": "code",
        "cellView": "both",
        "colab": {
          "base_uri": "https://localhost:8080/",
          "height": 81
        },
        "outputId": "87be608d-5467-49a9-d3cb-3ac1845f706d"
      },
      "source": [
        "#@markdown <h3>⬅️ Run This Cell to Install Skillshare-DL Requirements</h3>\n",
        "import random, string, urllib.request, json, getpass, os, IPython, uuid\n",
        "import ipywidgets as widgets\n",
        "\n",
        "from IPython.display import HTML, clear_output\n",
        "\n",
        "loadingBtn = widgets.Button(description = \"Installing\",\n",
        "                          disabled = True,\n",
        "                          button_style = 'warning', # 'success', 'info', 'warning', 'danger' or '' \n",
        "                          tooltip = \"Installing\",\n",
        "                          icon = 'check')\n",
        "display(loadingBtn)\n",
        "\n",
        "if not os.path.exists(\"/opt/python3.7\"):\n",
        "  get_ipython().system_raw(\"rm -rf /content/sample_data/ && sudo apt update && sudo apt install software-properties-common\")\n",
        "  get_ipython().system_raw(\"sudo add-apt-repository ppa:deadsnakes/ppa\")\n",
        "  get_ipython().system_raw(\"sudo apt install python3.7\")\n",
        "  get_ipython().system_raw(\"sudo apt install python3-pip\")\n",
        "  get_ipython().system_raw(\"python3.7 -m pip install --upgrade pip setuptools wheel\")\n",
        "  get_ipython().system_raw(\"git clone https://github.com/4vian5/skillsharedl.git /root/.skillsharedl\")\n",
        "  get_ipython().system_raw(\"rm -r /root/.skillsharedl/Skillshare.ipynb\")\n",
        "  clear_output()\n",
        "\n",
        "try:\n",
        "  get_ipython().system_raw(\"python3.7 -m pip -q install -r /root/.skillsharedl/requirements.txt\")\n",
        "  display(HTML(\"<center><h2 style=\\\"font-family:Trebuchet MS;color:#4f8bd6;\\\">Successfully Configured!</h2><br></center>\"))\n",
        "  \n",
        "except:\n",
        "  display(HTML(\"<center><h2 style=\\\"font-family:Trebuchet MS;color:#ff0000;\\\">Error Occured, Rerun the Cell!!</h2><br></center>\")) \n",
        "  \n",
        "  \n"
      ],
      "execution_count": 6,
      "outputs": [
        {
          "output_type": "display_data",
          "data": {
            "text/html": [
              "<center><h2 style=\"font-family:Trebuchet MS;color:#4f8bd6;\">Successfully Configured!</h2><br></center>"
            ],
            "text/plain": [
              "<IPython.core.display.HTML object>"
            ]
          },
          "metadata": {
            "tags": []
          }
        }
      ]
    },
    {
      "cell_type": "code",
      "metadata": {
        "id": "I7zT2rUX0KM4",
        "colab_type": "code",
        "cellView": "both",
        "colab": {
          "base_uri": "https://localhost:8080/",
          "height": 836
        },
        "outputId": "dc26205a-121c-4cbf-9054-e566581b08f8"
      },
      "source": [
        "#@markdown <h3>⬅️ Run this Cell to Download Skillshare Course</h3>\n",
        "Course_Link = \"https://www.skillshare.com/classes/Animation-for-Illustration-Adding-Movement-with-Procreate-Photoshop/1141497717?via=homepag\" #@param {type:\"string\"}\n",
        "!python3.7 /root/.skillshare/dl.py \"$Course_Link\""
      ],
      "execution_count": 7,
      "outputs": [
        {
          "output_type": "stream",
          "text": [
            "\t \n",
            "\n",
            "___________           .__          .__            ___________   .__.__  .__         .__                             ___ ___                __    \n",
            "\\__    ___/___   ____ |  |_________|__| _____    /   _____/  | _|__|  | |  |   _____|  |__ _____ _______   ____    /   |   \\_____    ____ |  | __\n",
            "  |    |_/ __ \\_/ ___\\|  |  \\_  __ \\  |/     \\   \\_____  \\|  |/ /  |  | |  |  /  ___/  |  \\\\__  \\\\_  __ \\_/ __ \\  /    ~    \\__  \\ _/ ___\\|  |/ /\n",
            "  |    |\\  ___/\\  \\___|   Y  \\  | \\/  |  Y Y  \\  /        \\    <|  |  |_|  |__\\___ \\|   Y  \\/ __ \\|  | \\/\\  ___/  \\    Y    // __ \\\\  \\___|    < \n",
            "  |____| \\___  >\\___  >___|  /__|  |__|__|_|  / /_______  /__|_ \\__|____/____/____  >___|  (____  /__|    \\___  >  \\___|_  /(____  /\\___  >__|_ \\\n",
            "             \\/     \\/     \\/               \\/          \\/     \\/                 \\/     \\/     \\/            \\/         \\/      \\/     \\/     \\/                                           \n",
            "                                                                                                                                                                    \n",
            "\n",
            "\n",
            "\t\t\t\tVisit Us for more Cool Stuff: https://thetechrim.com/\n",
            "\n",
            "                \n",
            "Downloading /content/Skillshare/libbyvanderploeg/animation-for-illustration-adding-movement-with-procreate-photoshop/01 - introduction.mp4...\n",
            "[==================================================]\n",
            "\n",
            "Downloading /content/Skillshare/libbyvanderploeg/animation-for-illustration-adding-movement-with-procreate-photoshop/02 - storyboarding.mp4...\n",
            "[==================================================]\n",
            "\n",
            "Downloading /content/Skillshare/libbyvanderploeg/animation-for-illustration-adding-movement-with-procreate-photoshop/03 - building-your-character.mp4...\n",
            "[==================================================]\n",
            "\n",
            "Downloading /content/Skillshare/libbyvanderploeg/animation-for-illustration-adding-movement-with-procreate-photoshop/04 - refining-your-character.mp4...\n",
            "[==================================================]\n",
            "\n",
            "Downloading /content/Skillshare/libbyvanderploeg/animation-for-illustration-adding-movement-with-procreate-photoshop/05 - consolidating-your-layers.mp4...\n",
            "[==================================================]\n",
            "\n",
            "Downloading /content/Skillshare/libbyvanderploeg/animation-for-illustration-adding-movement-with-procreate-photoshop/06 - adding-layers-for-animation.mp4...\n",
            "[==================================================]\n",
            "\n",
            "Downloading /content/Skillshare/libbyvanderploeg/animation-for-illustration-adding-movement-with-procreate-photoshop/07 - animating-in-photoshop.mp4...\n",
            "[==================================================]\n",
            "\n",
            "Downloading /content/Skillshare/libbyvanderploeg/animation-for-illustration-adding-movement-with-procreate-photoshop/08 - adding-elements-in-photoshop.mp4...\n",
            "[==================================================]\n",
            "\n",
            "Downloading /content/Skillshare/libbyvanderploeg/animation-for-illustration-adding-movement-with-procreate-photoshop/09 - exporting-your-animation.mp4...\n",
            "[==================================================]\n",
            "\n",
            "Downloading /content/Skillshare/libbyvanderploeg/animation-for-illustration-adding-movement-with-procreate-photoshop/10 - conclusion.mp4...\n",
            "[==================================================]\n",
            "\n",
            "Downloading /content/Skillshare/libbyvanderploeg/animation-for-illustration-adding-movement-with-procreate-photoshop/11 - explore-more-classes-on-skillshare.mp4...\n",
            "[==================================================]\n",
            "\n"
          ],
          "name": "stdout"
        }
      ]
    },
    {
      "cell_type": "code",
      "metadata": {
        "id": "v6fDZLoz0NSm",
        "colab_type": "code",
        "cellView": "form",
        "colab": {}
      },
      "source": [
        "#@markdown <h3>⬅️ Run This Cell to  Move Downloaded Courses to Gdrive\n",
        "!mv /content/Skillshare \"/content/drive/My Drive/Skillshare-DL\""
      ],
      "execution_count": 0,
      "outputs": []
    }
  ]
}